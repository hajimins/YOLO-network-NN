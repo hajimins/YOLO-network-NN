{
 "cells": [
  {
   "cell_type": "code",
   "execution_count": 1,
   "id": "0c11c626-533c-48b7-8d25-c21df9cff78a",
   "metadata": {},
   "outputs": [],
   "source": [
    "import numpy as np\n",
    "import pandas as pd \n",
    "import torch\n",
    "import torch.nn as nn\n",
    "import cv2\n",
    "import os\n",
    "import time\n",
    "from torch.autograd import Variable\n",
    "import matplotlib.pyplot as plt\n",
    "import wget"
   ]
  },
  {
   "cell_type": "code",
   "execution_count": 2,
   "id": "8efa3be7-6a36-4816-ac8d-587c0eddbc6b",
   "metadata": {},
   "outputs": [],
   "source": [
    "weightsfile = 'coco_data/yolov3.weights'\n",
    "classfile = 'coco_data/coco.names'\n",
    "cfgfile = 'coco_data/yolov3.cfg'\n",
    "sample_img1 = 'coco_data/input/img.jpg'\n",
    "input_dir = 'coco_data/input'\n",
    "output_dir = 'coco_data/output'\n",
    "nms_thesh = 0.3"
   ]
  },
  {
   "cell_type": "code",
   "execution_count": 3,
   "id": "96a65fc6-ad0c-479e-8578-2d9871d03267",
   "metadata": {},
   "outputs": [],
   "source": [
    "import requests\n",
    "\n",
    "# Download yolov3.cfg\n",
    "url1 = 'https://raw.githubusercontent.com/pjreddie/darknet/master/cfg/yolov3.cfg'\n",
    "response1 = requests.get(url1)\n",
    "with open('yolov3.cfg', 'wb') as file:\n",
    "    file.write(response1.content)\n",
    "\n",
    "# Download dog-cycle-car.png\n",
    "url2 = 'https://github.com/ayooshkathuria/pytorch-yolo-v3/raw/master/dog-cycle-car.png'\n",
    "response2 = requests.get(url2)\n",
    "with open('dog-cycle-car.png', 'wb') as file:\n",
    "    file.write(response2.content)"
   ]
  }
 ],
 "metadata": {
  "kernelspec": {
   "display_name": "Python 3 (ipykernel)",
   "language": "python",
   "name": "python3"
  },
  "language_info": {
   "codemirror_mode": {
    "name": "ipython",
    "version": 3
   },
   "file_extension": ".py",
   "mimetype": "text/x-python",
   "name": "python",
   "nbconvert_exporter": "python",
   "pygments_lexer": "ipython3",
   "version": "3.11.7"
  }
 },
 "nbformat": 4,
 "nbformat_minor": 5
}
